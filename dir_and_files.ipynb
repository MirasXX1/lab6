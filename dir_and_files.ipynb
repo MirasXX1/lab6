{
 "cells": [
  {
   "cell_type": "code",
   "execution_count": null,
   "metadata": {},
   "outputs": [],
   "source": [
    "import os"
   ]
  },
  {
   "cell_type": "code",
   "execution_count": 1,
   "metadata": {},
   "outputs": [
    {
     "name": "stdout",
     "output_type": "stream",
     "text": [
      "Каталоги:\n",
      "['.git']\n",
      "\n",
      "Файлы:\n",
      "['builtin-functions.ipynb', 'dir_and_files.ipynb']\n",
      "\n",
      "Все файлы и каталоги:\n",
      "['builtin-functions.ipynb', 'dir_and_files.ipynb', '.git']\n"
     ]
    }
   ],
   "source": [
    "import os\n",
    "\n",
    "def list_files_and_dirs(path):\n",
    "    if not os.path.exists(path):\n",
    "        print(\"Указанный путь не существует.\")\n",
    "        return\n",
    "\n",
    "    if not os.path.isdir(path):\n",
    "        print(f\"Ошибка: {path} — это не каталог, а файл.\")\n",
    "        return\n",
    "\n",
    "    print(\"Каталоги:\")\n",
    "    print([d for d in os.listdir(path) if os.path.isdir(os.path.join(path, d))])\n",
    "\n",
    "    print(\"\\nФайлы:\")\n",
    "    print([f for f in os.listdir(path) if os.path.isfile(os.path.join(path, f))])\n",
    "\n",
    "    print(\"\\nВсе файлы и каталоги:\")\n",
    "    print(os.listdir(path))\n",
    "\n",
    "list_files_and_dirs('/Users/mirasshokybay/Desktop/lab_6/lab6') "
   ]
  },
  {
   "cell_type": "code",
   "execution_count": 2,
   "metadata": {},
   "outputs": [
    {
     "name": "stdout",
     "output_type": "stream",
     "text": [
      "Существование: True\n",
      "Читаемость: True\n",
      "Записываемость: True\n",
      "Исполняемость: True\n"
     ]
    }
   ],
   "source": [
    "import os\n",
    "\n",
    "def check_path_access(path):\n",
    "    print(f\"Существование: {os.path.exists(path)}\")\n",
    "    print(f\"Читаемость: {os.access(path, os.R_OK)}\")\n",
    "    print(f\"Записываемость: {os.access(path, os.W_OK)}\")\n",
    "    print(f\"Исполняемость: {os.access(path, os.X_OK)}\")\n",
    "\n",
    "check_path_access('/Users/mirasshokybay/Desktop/lab_6/lab6')"
   ]
  },
  {
   "cell_type": "code",
   "execution_count": 6,
   "metadata": {},
   "outputs": [
    {
     "name": "stdout",
     "output_type": "stream",
     "text": [
      "/Users/mirasshokybay/Desktop/lab_6\n",
      "lab6\n"
     ]
    }
   ],
   "source": [
    "import os\n",
    "\n",
    "def jj(path):\n",
    "    \n",
    "  if  os.path.exists(path):\n",
    "      print(os.path.dirname(path))\n",
    "      print(os.path.basename(path))\n",
    "  else:\n",
    "      print(\"False\")\n",
    "      \n",
    "jj('/Users/mirasshokybay/Desktop/lab_6/lab6')\n"
   ]
  },
  {
   "cell_type": "code",
   "execution_count": 8,
   "metadata": {},
   "outputs": [
    {
     "name": "stdout",
     "output_type": "stream",
     "text": [
      "4\n"
     ]
    }
   ],
   "source": [
    "import os\n",
    "def uu(path):\n",
    "    try:\n",
    "        with open(path, 'r', encoding='utf-8') as file:\n",
    "            return sum(1 for line in file)\n",
    "    except FileExistsError:\n",
    "        print(\"false\")\n",
    "        return 0\n",
    "print(uu('/Users/mirasshokybay/Desktop/lab_6/lab6/read.txt'))\n",
    "        \n"
   ]
  },
  {
   "cell_type": "code",
   "execution_count": null,
   "metadata": {},
   "outputs": [],
   "source": [
    "def gg(path, list):\n",
    "    with open(path, 'w', encoding='utf-8') as read:\n",
    "        for item in list:\n",
    "            read.write(str(item)+ '\\n')\n",
    "            \n",
    "gg('/Users/mirasshokybay/Desktop/lab_6/lab6/read.txt', [\"fit\", \"ngd\"])"
   ]
  },
  {
   "cell_type": "code",
   "execution_count": 10,
   "metadata": {},
   "outputs": [],
   "source": [
    "import string\n",
    "\n",
    "path='/Users/mirasshokybay/Desktop/lab_6/lab6'\n",
    "\n",
    "for i in string.ascii_uppercase:\n",
    "    with open(f\"{path}/{i}.txt\", 'w') as file:\n",
    "        file.write(f\"File will be {i}.txt create.\\n\")\n",
    "\n"
   ]
  },
  {
   "cell_type": "code",
   "execution_count": 11,
   "metadata": {},
   "outputs": [
    {
     "name": "stdout",
     "output_type": "stream",
     "text": [
      "copy is finished\n"
     ]
    }
   ],
   "source": [
    "def yy(path1, path2):\n",
    "    try:\n",
    "        with open(path1, 'r', encoding='utf-8') as file1, open(path2, 'w', encoding='utf-8') as file2:\n",
    "            file2.write(file1.read())\n",
    "        print(\"copy is finished\")\n",
    "    except FileExistsError:\n",
    "        print(\"False\")\n",
    "        \n",
    "yy('/Users/mirasshokybay/Desktop/lab_6/lab6/read.txt', '/Users/mirasshokybay/Desktop/lab_6/lab6/Z.txt')\n",
    "    "
   ]
  },
  {
   "cell_type": "code",
   "execution_count": null,
   "metadata": {},
   "outputs": [
    {
     "name": "stdout",
     "output_type": "stream",
     "text": [
      "file is removed\n"
     ]
    }
   ],
   "source": [
    "import os\n",
    "\n",
    "def ii(path):\n",
    "    if os.path.exists(path):\n",
    "        if os.access(path, os.W_OK):\n",
    "            os.remove(path)\n",
    "            print(\"file is removed\")\n",
    "        else:\n",
    "            print(\"You dont have key\")\n",
    "    else:\n",
    "        print(\"file is not exists\")\n",
    "\n",
    "ii('/Users/mirasshokybay/Desktop/lab_6/lab6/N.txt')"
   ]
  }
 ],
 "metadata": {
  "kernelspec": {
   "display_name": "Python 3",
   "language": "python",
   "name": "python3"
  },
  "language_info": {
   "codemirror_mode": {
    "name": "ipython",
    "version": 3
   },
   "file_extension": ".py",
   "mimetype": "text/x-python",
   "name": "python",
   "nbconvert_exporter": "python",
   "pygments_lexer": "ipython3",
   "version": "3.13.1"
  }
 },
 "nbformat": 4,
 "nbformat_minor": 2
}
