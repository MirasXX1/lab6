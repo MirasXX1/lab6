{
 "cells": [
  {
   "cell_type": "code",
   "execution_count": 16,
   "metadata": {},
   "outputs": [
    {
     "name": "stdout",
     "output_type": "stream",
     "text": [
      "120\n"
     ]
    }
   ],
   "source": [
    "import math\n",
    "numbers = [2, 3, 4, 5]\n",
    "result=math.prod(numbers)\n",
    "print(result)\n"
   ]
  },
  {
   "cell_type": "code",
   "execution_count": 4,
   "metadata": {},
   "outputs": [
    {
     "name": "stdout",
     "output_type": "stream",
     "text": [
      "Sum of upper: 2\n",
      "Sum of lower 20\n"
     ]
    }
   ],
   "source": [
    "text = \"Miras is Better than miras\"\n",
    "upper = sum(map(str.isupper, text))\n",
    "lower=sum(map(str.islower, text))\n",
    "print(\"Sum of upper:\", upper)\n",
    "print (\"Sum of lower\", lower)"
   ]
  },
  {
   "cell_type": "code",
   "execution_count": 8,
   "metadata": {},
   "outputs": [
    {
     "name": "stdout",
     "output_type": "stream",
     "text": [
      "true\n"
     ]
    }
   ],
   "source": [
    "def is_polin(s):\n",
    "    return s==s[::-1]\n",
    "text= \"s\"\n",
    "if is_polin(text):\n",
    "    print(\"true\")\n",
    "else:\n",
    "    print(\"false\")"
   ]
  },
  {
   "cell_type": "code",
   "execution_count": 10,
   "metadata": {},
   "outputs": [
    {
     "name": "stdout",
     "output_type": "stream",
     "text": [
      "Square root of 81 after 2000 milliseconds is 9.0\n"
     ]
    }
   ],
   "source": [
    "import math\n",
    "import time\n",
    "num=int(input())\n",
    "delay=int(input())\n",
    "time.sleep(delay/1000)\n",
    "result=math.sqrt(num)\n",
    "print(f\"Square root of {num} after {delay} milliseconds is {result}\")"
   ]
  },
  {
   "cell_type": "code",
   "execution_count": 13,
   "metadata": {},
   "outputs": [
    {
     "name": "stdout",
     "output_type": "stream",
     "text": [
      "True\n",
      "False\n"
     ]
    }
   ],
   "source": [
    "t=(1, 1, True)\n",
    "print(all(t))\n",
    "t=(0,1,False)\n",
    "print(all(t))"
   ]
  }
 ],
 "metadata": {
  "kernelspec": {
   "display_name": "Python 3",
   "language": "python",
   "name": "python3"
  },
  "language_info": {
   "codemirror_mode": {
    "name": "ipython",
    "version": 3
   },
   "file_extension": ".py",
   "mimetype": "text/x-python",
   "name": "python",
   "nbconvert_exporter": "python",
   "pygments_lexer": "ipython3",
   "version": "3.13.1"
  }
 },
 "nbformat": 4,
 "nbformat_minor": 2
}
